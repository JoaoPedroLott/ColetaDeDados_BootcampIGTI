{
 "cells": [
  {
   "cell_type": "markdown",
   "metadata": {},
   "source": [
    "# Coleta de Dados no Twitter utilizando pacote Tweepy do Python"
   ]
  },
  {
   "attachments": {
    "image.png": {
     "image/png": "[encoded data removed]"
    }
   },
   "cell_type": "markdown",
   "metadata": {},
   "source": [
    "**OBSERVAÇÃO:**\n",
    "\n",
    "Antes de usar o tweepy pela primeira vez, **<font color='red'>é necessário instalar o pacote</font>**. Para isso, acesse o prompt do Anaconda e execute o comando abaixo:\n",
    "\n",
    "![image.png](attachment:image.png)"
   ]
  },
  {
   "cell_type": "markdown",
   "metadata": {},
   "source": [
    "### Importação do pacote tweepy "
   ]
  },
  {
   "cell_type": "markdown",
   "metadata": {},
   "source": [
    "**<font color='red'>SEMPRE é necessário importar</font>**  o(s) pacote(s) que serão usados no seu script."
   ]
  },
  {
   "cell_type": "markdown",
   "metadata": {},
   "source": [
    "Vamos importar os pacotes que precisaremos usar nessa aplicação: TextBlob, Tweepy e NumPy\n",
    "Tenha certeza que todos os pacotes foram previamente instalados. "
   ]
  },
  {
   "cell_type": "code",
   "execution_count": 1,
   "metadata": {},
   "outputs": [],
   "source": [
    "#Importação de pacotes\n",
    "\n",
    "import tweepy\n"
   ]
  },
  {
   "cell_type": "markdown",
   "metadata": {},
   "source": [
    "### Credenciais para utilização da API do Twitter"
   ]
  },
  {
   "cell_type": "markdown",
   "metadata": {},
   "source": [
    "Para utilizar a API do twitter, é necessário ter uma conta no twitter, solicitar o acesso de desenvolvedor, criar sua aplicação, gerar suas credenciais.\n",
    "* Veja vídeo explicativo \"*APIs e coleta de dados*\": https://igti.instructure.com/courses/2939/pages/apis-e-coleta-de-dados-2?module_item_id=194528"
   ]
  },
  {
   "cell_type": "code",
   "execution_count": 2,
   "metadata": {},
   "outputs": [],
   "source": [
    "# Credenciais para utilização da API do Twitter\n",
    "\n",
    "consumer_key = \"ThjEtKexjpxXSEFdIskFAJIa1\"\n",
    "consumer_secret = \"xVAOsFNAov5zBeToU6pQlTVGOGFY3yhaSdChzmAIq1LLFvNAs2\"\n",
    "access_token = \"989683030229995521-lKpEaaN5RMMpJg99BIN0x4KFdEvJjde\"\n",
    "access_token_secret = \"M9ibsxsupWqJ7Aby2FXtsPidLvrvmUIwTtNxDhXDDlO6Q\""
   ]
  },
  {
   "cell_type": "markdown",
   "metadata": {},
   "source": [
    "Fazer a autenticação na API usando suas credenciais"
   ]
  },
  {
   "cell_type": "code",
   "execution_count": 3,
   "metadata": {},
   "outputs": [],
   "source": [
    "auth = tweepy.OAuthHandler(consumer_key, consumer_secret)\n",
    "auth.set_access_token(access_token, access_token_secret)\n",
    "token = tweepy.API(auth)"
   ]
  },
  {
   "cell_type": "markdown",
   "metadata": {},
   "source": [
    "### Realizar a busca por palavra chave."
   ]
  },
  {
   "cell_type": "code",
   "execution_count": 4,
   "metadata": {},
   "outputs": [],
   "source": [
    "#Definir que palavra deseja pesquisar no Twitter\n",
    "#keyword = 'covid-19'\n",
    "keyword = ('covid OR covid-19 OR corona OR coronavirus')"
   ]
  },
  {
   "cell_type": "code",
   "execution_count": 5,
   "metadata": {},
   "outputs": [],
   "source": [
    "# Fazer a busca por palavra chave\n",
    "\n",
    "# result_type --> mixed (default), recent, popular\n",
    "#tweets --> variável que irá armazenar todos os Tweets com a palavra escolhida na função search da API\n",
    "\n",
    "tweets = token.search(q=keyword,count=10,result_type='mixed')\n",
    "\n",
    "#tweets = token.search(q=keyword,count=10,result_type='mixed',tweet_mode='extended',Lang='en')\n"
   ]
  },
  {
   "cell_type": "markdown",
   "metadata": {},
   "source": [
    "**Observação:**\n",
    "\n",
    "Fazer a busca por palavra chave, busca o text do tweet truncado:\n",
    "* tweets = token.search(q=keyword,lang='pt')\n",
    "\n",
    "Fazer a busca por palavra chave, busca o text do tweet por inteiro\n",
    "* tweets = token.search(q=keyword,tweet_mode='extended')"
   ]
  },
  {
   "cell_type": "code",
   "execution_count": 6,
   "metadata": {},
   "outputs": [
    {
     "name": "stdout",
     "output_type": "stream",
     "text": [
      "Total de tweets coletados 10.\n"
     ]
    }
   ],
   "source": [
    "# Para verificar a quantidade de tweets coletado use a função \"len()\"\n",
    "\n",
    "print(\"Total de tweets coletados %s.\" % (len(tweets)))"
   ]
  },
  {
   "cell_type": "code",
   "execution_count": 7,
   "metadata": {},
   "outputs": [
    {
     "name": "stdout",
     "output_type": "stream",
     "text": [
      "Usuário: {'JasmynBeKnowing'} \n",
      "  Tweet: {'This woman on the news just said, imagine if there was a medication that reduced your chances of getting COVID by 5… https://t.co/A4WfncIX9G'}\n",
      "Usuário: {'CNBCnow'} \n",
      "  Tweet: {'The Trump admin. plans to end federal funding and support for coronavirus testing sites at the end of this month,… https://t.co/SlXjay1M3f'}\n",
      "Usuário: {'funder'} \n",
      "  Tweet: {'BREAKING: Trump is ending funding for 13 coronavirus testing sites in 5 states. This is an example of Trump slowing… https://t.co/M5Rws4dSUy'}\n",
      "Usuário: {'AbelOli29927996'} \n",
      "  Tweet: {'RT @ConElMazoDando: La OMS dice que la vacuna contra el Covid-19 puede estar lista dentro de un año https://t.co/7u0fadlHUY  #Independencia…'}\n",
      "Usuário: {'ahmetadanur061'} \n",
      "  Tweet: {'RT @de_aba_: Corona günleri 4.ay\\nDiyett 1.gün..😊\\nYaşasınnn hiç kilo almamışımm...😂 https://t.co/5Y80MxOQFM'}\n",
      "Usuário: {'PrimeroMxico1'} \n",
      "  Tweet: {'RT @horuzacuario: @clubultra Aumentan los impuestos y que creen???? le da Covid-19 a Arturo Herrera pinche virus tan inoportuno como siempr…'}\n",
      "Usuário: {'JimdReynolds'} \n",
      "  Tweet: {'RT @charliekirk11: Joe Biden claimed 150 MILLION Americans have been killed by guns \\n\\nNow, he just claimed that 120 MILLION have been kille…'}\n",
      "Usuário: {'Varela_Natalia'} \n",
      "  Tweet: {'Una persona de esa edad q padeció hace un par de semanas COVID-19 evidentemente murió a causa de eso 🤷\\u200d♀️\\n\\nEs incom… https://t.co/gDe1xhjMjJ'}\n",
      "Usuário: {'my2sonznme'} \n",
      "  Tweet: {'RT @CameraPhyllis: No!  @realDonaldTrump Our military should not be forced to inject covid vaccines. https://t.co/EtGImpMDoC'}\n",
      "Usuário: {'bean_humanbean'} \n",
      "  Tweet: {'RT @ohTHATnurse: To be clear, if you’re only considering open beds as a metric for a city’s readiness to handle increasing hospitalizations…'}\n"
     ]
    }
   ],
   "source": [
    "#Podemos imprimir o nome do usuário (screen_name) e o texto do tweet\n",
    "\n",
    "for tweet in tweets:\n",
    "    print(\"Usuário: %s \"% {tweet.user.screen_name})\n",
    "    print(\"  Tweet: %s\"  % {tweet.text})\n",
    "    #print(\"  Tweet: %s\"  % {tweet.full_text}) #No caso da busca em tweet_mode='extended'\n"
   ]
  },
  {
   "cell_type": "markdown",
   "metadata": {},
   "source": [
    "## <font color=blue>Análise de polaridade</font>"
   ]
  },
  {
   "cell_type": "markdown",
   "metadata": {},
   "source": [
    "Para fazer a **análise de polaridade**, vamos usar a função *sentiment.polarity* do pacote *TextBlob*.\n",
    "\n",
    "* A função *sentiment.polarity* retornará um número entre -1 e 1, onde quanto maior esse número, menos \"chateada\" a pessoa que postou está. \n",
    "\n",
    "Ou seja, quanto maior esse número mais positivo é o tweet. Podemos ainda considerar que a polaridade 0 (zero) pode indicar uma neutralidade do tweet."
   ]
  },
  {
   "cell_type": "code",
   "execution_count": 8,
   "metadata": {},
   "outputs": [],
   "source": [
    "#importa pacotes\n",
    "\n",
    "from textblob import TextBlob as tb\n",
    "import numpy as np"
   ]
  },
  {
   "cell_type": "markdown",
   "metadata": {},
   "source": [
    "**Observação:** Lembre-se de instalar os pacotes primeiro."
   ]
  },
  {
   "cell_type": "code",
   "execution_count": 9,
   "metadata": {},
   "outputs": [],
   "source": [
    "#Variável que irá armazenar as polaridades\n",
    "analysis = None"
   ]
  },
  {
   "cell_type": "code",
   "execution_count": 10,
   "metadata": {},
   "outputs": [],
   "source": [
    "# Lista vazia para armazenar scores\n",
    "tweets_score = [] "
   ]
  },
  {
   "cell_type": "code",
   "execution_count": 11,
   "metadata": {},
   "outputs": [
    {
     "name": "stdout",
     "output_type": "stream",
     "text": [
      "** This woman on the news just said, imagine if there was a medication that reduced your chances of getting COVID by 5… https://t.co/A4WfncIX9G\n",
      "** The Trump admin. plans to end federal funding and support for coronavirus testing sites at the end of this month,… https://t.co/SlXjay1M3f\n",
      "** BREAKING: Trump is ending funding for 13 coronavirus testing sites in 5 states. This is an example of Trump slowing… https://t.co/M5Rws4dSUy\n",
      "** RT @ConElMazoDando: La OMS dice que la vacuna contra el Covid-19 puede estar lista dentro de un año https://t.co/7u0fadlHUY  #Independencia…\n",
      "** RT @de_aba_: Corona günleri 4.ay\n",
      "Diyett 1.gün..😊\n",
      "Yaşasınnn hiç kilo almamışımm...😂 https://t.co/5Y80MxOQFM\n",
      "** RT @horuzacuario: @clubultra Aumentan los impuestos y que creen???? le da Covid-19 a Arturo Herrera pinche virus tan inoportuno como siempr…\n",
      "** RT @charliekirk11: Joe Biden claimed 150 MILLION Americans have been killed by guns \n",
      "\n",
      "Now, he just claimed that 120 MILLION have been kille…\n",
      "** Una persona de esa edad q padeció hace un par de semanas COVID-19 evidentemente murió a causa de eso 🤷‍♀️\n",
      "\n",
      "Es incom… https://t.co/gDe1xhjMjJ\n",
      "** RT @CameraPhyllis: No!  @realDonaldTrump Our military should not be forced to inject covid vaccines. https://t.co/EtGImpMDoC\n",
      "** RT @ohTHATnurse: To be clear, if you’re only considering open beds as a metric for a city’s readiness to handle increasing hospitalizations…\n"
     ]
    }
   ],
   "source": [
    "for tweet in tweets:\n",
    "    print('**',tweet.text)\n",
    "    analysis = tb(tweet.text)\n",
    "    polarity = analysis.sentiment.polarity\n",
    "    tweets_score.append(polarity)\n"
   ]
  },
  {
   "cell_type": "code",
   "execution_count": 12,
   "metadata": {},
   "outputs": [
    {
     "name": "stdout",
     "output_type": "stream",
     "text": [
      "Vetor de polaridade: [0.0, 0.0, 0.0, 0.0, 0.0, 0.0, -0.2, 0.0, -0.2, 0.03333333333333334]\n"
     ]
    }
   ],
   "source": [
    "print('Vetor de polaridade:',tweets_score)"
   ]
  },
  {
   "cell_type": "code",
   "execution_count": 13,
   "metadata": {},
   "outputs": [
    {
     "name": "stdout",
     "output_type": "stream",
     "text": [
      "MÉDIA DE SENTIMENTO: -0.03666666666666667\n"
     ]
    }
   ],
   "source": [
    "print('MÉDIA DE SENTIMENTO: ' + str(np.mean(tweets_score))) #a função mean() pertence ao pacote numpy"
   ]
  },
  {
   "cell_type": "markdown",
   "metadata": {},
   "source": [
    "##### Análise de polaridade para tweets que não foram postados em inglês."
   ]
  },
  {
   "cell_type": "code",
   "execution_count": 16,
   "metadata": {},
   "outputs": [
    {
     "name": "stdout",
     "output_type": "stream",
     "text": [
      "Texto traduzido RT @ConElMazoDando: The WHO says that the vaccine against Covid-19 may be ready in a year https://t.co/7u0fadlHUY # Independence ...: \n",
      "Texto traduzido RT @de_aba_: Corona days 4th month\n",
      "Diet 1 day..😊\n",
      "Hooray I never gained weight ... 😂 https://t.co/5Y80MxOQFM: \n",
      "Texto traduzido RT @horuzacuario: @clubultra Tax increases and what do they believe ???? Covid-19 gives Arturo Herrera a virus as inopportune as always ...: \n",
      "Texto traduzido A person of that age who suffered a couple of weeks ago COVID-19 evidently died because of it 🤷‍♀️\n",
      "\n",
      "It is incom… https://t.co/gDe1xhjMjJ: \n"
     ]
    }
   ],
   "source": [
    "polarities = []\n",
    "\n",
    "for tweet in tweets: #para cada tweet \n",
    "    analysis = tb(tweet.text)  # tweet.full_text para modo extendido\n",
    "    \n",
    "    if analysis.detect_language() != 'en': #verifica se o tweet esta em inglês, se não estiver, vai traduzir\n",
    "\n",
    "        traducao = tb(str(analysis.translate(to='en')))\n",
    "        \n",
    "        print('Texto traduzido %s: ' % traducao)\n",
    "        \n",
    "        polarity = traducao.sentiment.polarity\n",
    "    else:\n",
    "        polarity = analysis.sentiment.polarity\n",
    "    \n",
    "    polarities.append(polarity)\n",
    "    "
   ]
  },
  {
   "cell_type": "code",
   "execution_count": 18,
   "metadata": {},
   "outputs": [
    {
     "name": "stdout",
     "output_type": "stream",
     "text": [
      "Vetor de polaridade: [0.0, 0.0, 0.0, 0.2, 0.0, 0.0, -0.2, 0.25, -0.2, 0.03333333333333334]\n"
     ]
    }
   ],
   "source": [
    "print('Vetor de polaridade:',polarities)"
   ]
  },
  {
   "cell_type": "code",
   "execution_count": 19,
   "metadata": {},
   "outputs": [
    {
     "name": "stdout",
     "output_type": "stream",
     "text": [
      "MÉDIA DE SENTIMENTO: 0.008333333333333333\n"
     ]
    }
   ],
   "source": [
    "print('MÉDIA DE SENTIMENTO: ' + str(np.mean(polarities)))"
   ]
  },
  {
   "cell_type": "markdown",
   "metadata": {},
   "source": [
    "## <font color=blue>Armazenar o tweets coletados</font> "
   ]
  },
  {
   "cell_type": "markdown",
   "metadata": {},
   "source": [
    "Até aqui, nós criamos nossa autenticação e já temos acesso aos tweets coletados.\n",
    "Agora vamos armazenar nossos tweets."
   ]
  },
  {
   "cell_type": "markdown",
   "metadata": {},
   "source": [
    "##### Armazenar em arquivos"
   ]
  },
  {
   "cell_type": "code",
   "execution_count": 20,
   "metadata": {},
   "outputs": [],
   "source": [
    "#importa o pacote json\n",
    "\n",
    "import json "
   ]
  },
  {
   "cell_type": "code",
   "execution_count": 21,
   "metadata": {},
   "outputs": [],
   "source": [
    "status = tweets[0]\n",
    "\n",
    "#converte para string\n",
    "json_str = json.dumps(status._json)\n",
    "\n",
    "#deserialise string para um objeto python\n",
    "parsed = json.loads(json_str)"
   ]
  },
  {
   "cell_type": "code",
   "execution_count": 22,
   "metadata": {},
   "outputs": [
    {
     "data": {
      "text/plain": [
       "tweepy.models.SearchResults"
      ]
     },
     "execution_count": 22,
     "metadata": {},
     "output_type": "execute_result"
    }
   ],
   "source": [
    "type(tweets)"
   ]
  },
  {
   "cell_type": "code",
   "execution_count": 23,
   "metadata": {},
   "outputs": [
    {
     "data": {
      "text/plain": [
       "str"
      ]
     },
     "execution_count": 23,
     "metadata": {},
     "output_type": "execute_result"
    }
   ],
   "source": [
    "type(json_str)"
   ]
  },
  {
   "cell_type": "code",
   "execution_count": 24,
   "metadata": {},
   "outputs": [
    {
     "data": {
      "text/plain": [
       "dict"
      ]
     },
     "execution_count": 24,
     "metadata": {},
     "output_type": "execute_result"
    }
   ],
   "source": [
    "type(parsed)"
   ]
  },
  {
   "cell_type": "markdown",
   "metadata": {},
   "source": [
    "Agora vamos deserializar os tweets e gravar no arquivo json.\n",
    "\n",
    "**Observação:** Antes de executar o scrit, verifique se o caminho de gravação do arquivo definido na variável *datasetPath* existe."
   ]
  },
  {
   "cell_type": "code",
   "execution_count": 26,
   "metadata": {},
   "outputs": [],
   "source": [
    "datasetPath = 'C:/Users/JoaoLott/Desktop/Git/ColetaDeDados_BootcampIGTI/DataSets/JSON'\n",
    "\n",
    "with open(datasetPath+'\\\\tweets_keywords.json', 'a', encoding='utf8') as filename:    #aberto em mode de append\n",
    "    \n",
    "    for tweet in tweets: #para cada tweet no vetor de resultados tweets\n",
    "        \n",
    "        status = tweet\n",
    "        \n",
    "        #converte para string        \n",
    "        json_str = json.dumps(status._json)\n",
    "        \n",
    "        #deserializa a string para um objeto python do tipo dict        \n",
    "        parsed = json.loads(json_str)\n",
    "        \n",
    "        #grava o tweet deserializado no arquivo\n",
    "        json.dump(parsed, filename, ensure_ascii=False, sort_keys=True, indent=4, separators=(',', ':'))"
   ]
  },
  {
   "cell_type": "markdown",
   "metadata": {},
   "source": [
    "##### Armazenar no MongoDB"
   ]
  },
  {
   "cell_type": "code",
   "execution_count": 2,
   "metadata": {},
   "outputs": [],
   "source": [
    "#importa o pacote pymongo\n",
    "\n",
    "import pymongo"
   ]
  },
  {
   "cell_type": "code",
   "execution_count": 3,
   "metadata": {},
   "outputs": [],
   "source": [
    "#Conexão ao banco de dados\n",
    "con = pymongo.MongoClient('localhost', 27017)\n",
    "\n",
    "#seleciona o banco de dados\n",
    "db = con.twitterdb"
   ]
  },
  {
   "cell_type": "code",
   "execution_count": 4,
   "metadata": {},
   "outputs": [],
   "source": [
    "#seleciona a coleção para armazenar os tweets\n",
    "collection = db.tweets_keywords"
   ]
  },
  {
   "cell_type": "code",
   "execution_count": 5,
   "metadata": {},
   "outputs": [
    {
     "name": "stderr",
     "output_type": "stream",
     "text": [
      "C:\\ProgramData\\Anaconda3\\envs\\Dev\\lib\\site-packages\\ipykernel_launcher.py:2: DeprecationWarning: count is deprecated. Use estimated_document_count or count_documents instead. Please note that $where must be replaced by $expr, $near must be replaced by $geoWithin with $center, and $nearSphere must be replaced by $geoWithin with $centerSphere\n",
      "  \n"
     ]
    },
    {
     "data": {
      "text/plain": [
       "0"
      ]
     },
     "execution_count": 5,
     "metadata": {},
     "output_type": "execute_result"
    }
   ],
   "source": [
    "#lista a quantidade de tweets existentes na coleção\n",
    "db.collection.count()"
   ]
  },
  {
   "cell_type": "code",
   "execution_count": 6,
   "metadata": {},
   "outputs": [
    {
     "data": {
      "text/plain": [
       "0"
      ]
     },
     "execution_count": 6,
     "metadata": {},
     "output_type": "execute_result"
    }
   ],
   "source": [
    "#lista a quantidade de tweets existentes na coleção\n",
    "db.collection.count_documents({})"
   ]
  },
  {
   "cell_type": "code",
   "execution_count": 32,
   "metadata": {},
   "outputs": [],
   "source": [
    "i = 0\n",
    "#para cada tweet no vetor de resultados tweets\n",
    "for tweet in tweets:\n",
    "    db.tweets_keywords.insert_one(tweet._json)\n",
    "    i=i+1\n",
    "    #print(\"Tweet inserido com sucesso !!\")"
   ]
  },
  {
   "cell_type": "code",
   "execution_count": 33,
   "metadata": {},
   "outputs": [
    {
     "name": "stdout",
     "output_type": "stream",
     "text": [
      "Quantidade de tweets inseridos: 10\n"
     ]
    }
   ],
   "source": [
    "#lista a quantidade de tweets inseridos\n",
    "print(\"Quantidade de tweets inseridos: %s\" % i)"
   ]
  },
  {
   "cell_type": "code",
   "execution_count": 34,
   "metadata": {},
   "outputs": [
    {
     "data": {
      "text/plain": [
       "10"
      ]
     },
     "execution_count": 34,
     "metadata": {},
     "output_type": "execute_result"
    }
   ],
   "source": [
    "#lista a quantidade de tweets existentes na coleção\n",
    "db.tweets_keywords.count_documents({})"
   ]
  },
  {
   "cell_type": "code",
   "execution_count": null,
   "metadata": {},
   "outputs": [],
   "source": []
  }
 ],
 "metadata": {
  "kernelspec": {
   "display_name": "Python 3",
   "language": "python",
   "name": "python3"
  },
  "language_info": {
   "codemirror_mode": {
    "name": "ipython",
    "version": 3
   },
   "file_extension": ".py",
   "mimetype": "text/x-python",
   "name": "python",
   "nbconvert_exporter": "python",
   "pygments_lexer": "ipython3",
   "version": "3.7.1"
  }
 },
 "nbformat": 4,
 "nbformat_minor": 4
}

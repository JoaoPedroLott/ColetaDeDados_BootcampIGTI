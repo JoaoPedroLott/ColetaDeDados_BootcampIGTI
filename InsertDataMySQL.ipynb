{
 "cells": [
  {
   "cell_type": "code",
   "execution_count": null,
   "metadata": {},
   "outputs": [],
   "source": [
    "# Código criado para conectar no MySQL e realizar a criação de tabelas, carga de dados a partir de arquivos csv e txt"
   ]
  },
  {
   "cell_type": "code",
   "execution_count": null,
   "metadata": {},
   "outputs": [],
   "source": [
    "# Importa o conector de MySQL\n",
    "import mysql.connector"
   ]
  },
  {
   "cell_type": "code",
   "execution_count": null,
   "metadata": {},
   "outputs": [],
   "source": [
    "# Cria a conexão com o BD local sem especificar o database\n",
    "mydb = mysql.connector.connect(\n",
    "    host='localhost',\n",
    "    user='root',\n",
    "    password='database'\n",
    ")\n",
    "\n",
    "print(mydb)\n",
    "\n",
    "mycursor = mydb.cursor()\n",
    "\n",
    "# Comando para exibir os databases existentes\n",
    "mycursor.execute(\"SHOW DATABASES\")\n",
    "\n",
    "for db in mycursor:\n",
    "    print(db)\n",
    "\n",
    "# Para criar um banco de dados use o comando abaixo\n",
    "#mycursor.execute(\"CREATE DATABASE mydatabase\")"
   ]
  },
  {
   "cell_type": "code",
   "execution_count": null,
   "metadata": {},
   "outputs": [],
   "source": [
    "# Cria a conexão com o BD local sem especificando o database\n",
    "mydb = mysql.connector.connect(\n",
    "    host='localhost',\n",
    "    user='root',\n",
    "    password='database',\n",
    "    database='bootcamp'\n",
    ")\n",
    "\n",
    "print(mydb)\n",
    "\n",
    "mycursor = mydb.cursor()"
   ]
  },
  {
   "cell_type": "code",
   "execution_count": null,
   "metadata": {},
   "outputs": [],
   "source": [
    "# Exibe as tabelas existentes no database\n",
    "mycursor.execute(\"SHOW TABLES\")\n",
    "\n",
    "for db in mycursor:\n",
    "    print(db)"
   ]
  },
  {
   "cell_type": "code",
   "execution_count": null,
   "metadata": {},
   "outputs": [],
   "source": [
    "#Criar uma tabela\n",
    "\n",
    "mycursor.execute (\"CREATE TABLE caracteristicageralimovel (\\\n",
    "  idCaracteristicasImovel int NOT NULL AUTO_INCREMENT,\\\n",
    "  idcaracteristicasGerais int NOT NULL,\\\n",
    "  idImovel int NOT NULL,\\\n",
    "  temCaracteristica tinyint DEFAULT NULL,\\\n",
    "  PRIMARY KEY (idCaracteristicasImovel),\\\n",
    "  KEY fk_caracteristicasGerais_has_Imovel_Imovel1_idx (idImovel),\\\n",
    "  KEY fk_caracteristicasGerais_has_Imovel_caracteristicasGerais1_idx (idcaracteristicasGerais),\\\n",
    "  CONSTRAINT fk_caracteristicasGerais_has_Imovel_caracteristicasGerais1 FOREIGN KEY (idcaracteristicasGerais)\\\n",
    "                  REFERENCES caracteristicasgerais (idcaracteristicasGerais),\\\n",
    "  CONSTRAINT fk_caracteristicasGerais_has_Imovel_Imovel1 FOREIGN KEY (idImovel) REFERENCES imovel (idImovel)\\\n",
    ")\")\n"
   ]
  },
  {
   "cell_type": "code",
   "execution_count": null,
   "metadata": {},
   "outputs": [],
   "source": [
    "# Exibe as tabelas existentes no database\n",
    "mycursor.execute(\"SHOW TABLES\")\n",
    "\n",
    "for db in mycursor:\n",
    "    print(db)"
   ]
  },
  {
   "cell_type": "code",
   "execution_count": null,
   "metadata": {},
   "outputs": [],
   "source": [
    "# Executa uma busca na tabela e retorna todos os seus dados\n",
    "mycursor.execute(\"SELECT * FROM caracteristicageralimovel\")\n",
    "\n",
    "myresult = mycursor.fetchall()\n",
    "\n",
    "for mydata in myresult:\n",
    "    print(mydata)"
   ]
  },
  {
   "cell_type": "code",
   "execution_count": null,
   "metadata": {},
   "outputs": [],
   "source": [
    "# Importa a biblioteca csv\n",
    "import csv\n",
    "\n",
    "# Leitura de arquivo sem utilizar biblioteca Pandas\n",
    "filename = 'C:/Users/JoaoLott/Desktop/CURSOS/BootCamp IGTI/Modulo 3/Atividade 1/caracteristicaImovel.csv'\n",
    "\n",
    "# Abre o arquivo e realiza o insert dos dados utilizando os dados lidos\n",
    "with open(filename, 'r') as incsvfile:\n",
    "    reader = csv.reader(incsvfile, delimiter=',')\n",
    "    next(reader, None)  # skip the headers\n",
    "    for line in reader:       \n",
    "        #print(line)\n",
    "        #print(line[1])\n",
    "        mycursor.execute (\"INSERT INTO caracteristicageralimovel (idcaracteristicasGerais, idImovel, temCaracteristica)\\\n",
    "                  VALUES (%s, %s, %s)\",line)\n",
    "\n",
    "# Commit (salva as alterações)\n",
    "mydb.commit()\n",
    "\n",
    "print(mycursor.rowcount, \"registro(s) inserido(s).\")\n",
    "\n",
    "#db.close()\n",
    "incsvfile.close()"
   ]
  },
  {
   "cell_type": "code",
   "execution_count": null,
   "metadata": {},
   "outputs": [],
   "source": [
    "# Leitura de arquivo sem utilizar biblioteca Pandas\n",
    "filename = 'C:/Users/JoaoLott/Desktop/CURSOS/BootCamp IGTI/Modulo 3/Atividade 1/caracteristicaImovel.txt'\n",
    "\n",
    "# Abre o arquivo e realiza o insert dos dados utilizando os dados lidos\n",
    "with open(filename, 'r') as incsvfile:\n",
    "    reader = csv.reader(incsvfile, delimiter=',')\n",
    "    next(reader, None)  # skip the headers\n",
    "    for line in reader:       \n",
    "        #print(line)\n",
    "        #print(line[1])\n",
    "        mycursor.execute (\"INSERT INTO caracteristicageralimovel (idcaracteristicasGerais, idImovel, temCaracteristica)\\\n",
    "                  VALUES (%s, %s, %s)\",line)\n",
    "\n",
    "# Commit (salva as alterações)\n",
    "mydb.commit()\n",
    "\n",
    "print(mycursor.rowcount, \"registro(s) inserido(s).\")\n",
    "\n",
    "#db.close()\n",
    "incsvfile.close()"
   ]
  },
  {
   "cell_type": "code",
   "execution_count": null,
   "metadata": {},
   "outputs": [],
   "source": [
    "# Executa uma busca na tabela e retorna todos os seus dados\n",
    "mycursor.execute(\"SELECT * FROM caracteristicageralimovel\")\n",
    "\n",
    "myresult = mycursor.fetchall()\n",
    "\n",
    "for mydata in myresult:\n",
    "    print(mydata)"
   ]
  },
  {
   "cell_type": "code",
   "execution_count": null,
   "metadata": {},
   "outputs": [],
   "source": [
    "# Executa uma busca na tabela e retorna o total de dados na tabela\n",
    "mycursor.execute(\"SELECT count(1) FROM caracteristicageralimovel\")\n",
    "\n",
    "myresult = mycursor.fetchall()\n",
    "\n",
    "for mydata in myresult:\n",
    "    print(mydata)"
   ]
  },
  {
   "cell_type": "code",
   "execution_count": null,
   "metadata": {},
   "outputs": [],
   "source": [
    "# Fecha a conexão com o BD\n",
    "mydb.close()"
   ]
  },
  {
   "cell_type": "code",
   "execution_count": null,
   "metadata": {},
   "outputs": [],
   "source": []
  }
 ],
 "metadata": {
  "kernelspec": {
   "display_name": "Python 3",
   "language": "python",
   "name": "python3"
  },
  "language_info": {
   "codemirror_mode": {
    "name": "ipython",
    "version": 3
   },
   "file_extension": ".py",
   "mimetype": "text/x-python",
   "name": "python",
   "nbconvert_exporter": "python",
   "pygments_lexer": "ipython3",
   "version": "3.7.6"
  }
 },
 "nbformat": 4,
 "nbformat_minor": 4
}

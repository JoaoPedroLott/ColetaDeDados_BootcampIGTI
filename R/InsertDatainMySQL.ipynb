{
 "cells": [
  {
   "cell_type": "code",
   "execution_count": 3,
   "metadata": {},
   "outputs": [
    {
     "name": "stderr",
     "output_type": "stream",
     "text": [
      "Loading required package: RMariaDB\n"
     ]
    }
   ],
   "source": [
    "#importação do pacote\n",
    "\n",
    "#Importa pacote RMariaDB se ele ainda não foi carregado\n",
    "if(!\"RMariaDB\" %in% (.packages())){require(RMariaDB)}"
   ]
  },
  {
   "cell_type": "code",
   "execution_count": 4,
   "metadata": {},
   "outputs": [],
   "source": [
    "#Conecta ao SGBD MySQL --> Banco de dados bootcamp\n",
    "con <- dbConnect(MariaDB(), user = \"root\", password = \"database\",\n",
    "                 dbname = \"bootcamp\", host = \"localhost\",serverTimezone='UTC')"
   ]
  },
  {
   "cell_type": "code",
   "execution_count": 5,
   "metadata": {},
   "outputs": [
    {
     "ename": "ERROR",
     "evalue": "Error in result_create(conn@ptr, statement, is_statement): Table 'caracteristicasgerais' already exists [1050]\n",
     "output_type": "error",
     "traceback": [
      "Error in result_create(conn@ptr, statement, is_statement): Table 'caracteristicasgerais' already exists [1050]\nTraceback:\n",
      "1. dbSendQuery(con, query)",
      "2. dbSendQuery(con, query)",
      "3. .local(conn, statement, ...)",
      "4. dbSend(conn, statement, params, is_statement = FALSE)",
      "5. new(\"MariaDBResult\", sql = statement, ptr = result_create(conn@ptr, \n .     statement, is_statement), bigint = conn@bigint)",
      "6. initialize(value, ...)",
      "7. initialize(value, ...)",
      "8. result_create(conn@ptr, statement, is_statement)"
     ]
    }
   ],
   "source": [
    "#Criar uma tabela vazia\n",
    "query <- \"CREATE TABLE caracteristicasgerais (\n",
    "                idcaracteristicasGerais int NOT NULL AUTO_INCREMENT,\n",
    "                dsccaracteristicasGerais varchar(150) NOT NULL,\n",
    "                PRIMARY KEY (idcaracteristicasGerais));\"\n",
    "\n",
    "\n",
    "results <- dbSendQuery(con,query)\n",
    "results\n",
    "\n",
    "tables <- dbListTables(con) \n",
    "tables"
   ]
  },
  {
   "cell_type": "code",
   "execution_count": 6,
   "metadata": {
    "scrolled": true
   },
   "outputs": [
    {
     "data": {
      "text/html": [
       "<table>\n",
       "<thead><tr><th scope=col>idcaracteristicasGerais</th><th scope=col>dsccaracteristicasGerais</th></tr></thead>\n",
       "<tbody>\n",
       "\t<tr><td> 1                 </td><td>Portaria 24 Horas  </td></tr>\n",
       "\t<tr><td> 2                 </td><td>Elevador           </td></tr>\n",
       "\t<tr><td> 4                 </td><td>Salão de festas    </td></tr>\n",
       "\t<tr><td> 5                 </td><td>Área gourmet       </td></tr>\n",
       "\t<tr><td> 6                 </td><td>Água individual    </td></tr>\n",
       "\t<tr><td> 7                 </td><td>Gás canalizado     </td></tr>\n",
       "\t<tr><td> 8                 </td><td>Aquecimento solar  </td></tr>\n",
       "\t<tr><td> 9                 </td><td>Vaga coberta       </td></tr>\n",
       "\t<tr><td>10                 </td><td>Vaga livre         </td></tr>\n",
       "\t<tr><td>11                 </td><td>Armários na cozinha</td></tr>\n",
       "\t<tr><td>12                 </td><td>Closet             </td></tr>\n",
       "\t<tr><td>13                 </td><td>Armários no quarto </td></tr>\n",
       "</tbody>\n",
       "</table>\n"
      ],
      "text/latex": [
       "\\begin{tabular}{r|ll}\n",
       " idcaracteristicasGerais & dsccaracteristicasGerais\\\\\n",
       "\\hline\n",
       "\t  1                  & Portaria 24 Horas  \\\\\n",
       "\t  2                  & Elevador           \\\\\n",
       "\t  4                  & Salão de festas    \\\\\n",
       "\t  5                  & Área gourmet       \\\\\n",
       "\t  6                  & Água individual    \\\\\n",
       "\t  7                  & Gás canalizado     \\\\\n",
       "\t  8                  & Aquecimento solar  \\\\\n",
       "\t  9                  & Vaga coberta       \\\\\n",
       "\t 10                  & Vaga livre         \\\\\n",
       "\t 11                  & Armários na cozinha\\\\\n",
       "\t 12                  & Closet             \\\\\n",
       "\t 13                  & Armários no quarto \\\\\n",
       "\\end{tabular}\n"
      ],
      "text/markdown": [
       "\n",
       "| idcaracteristicasGerais | dsccaracteristicasGerais |\n",
       "|---|---|\n",
       "|  1                  | Portaria 24 Horas   |\n",
       "|  2                  | Elevador            |\n",
       "|  4                  | Salão de festas     |\n",
       "|  5                  | Área gourmet        |\n",
       "|  6                  | Água individual     |\n",
       "|  7                  | Gás canalizado      |\n",
       "|  8                  | Aquecimento solar   |\n",
       "|  9                  | Vaga coberta        |\n",
       "| 10                  | Vaga livre          |\n",
       "| 11                  | Armários na cozinha |\n",
       "| 12                  | Closet              |\n",
       "| 13                  | Armários no quarto  |\n",
       "\n"
      ],
      "text/plain": [
       "   idcaracteristicasGerais dsccaracteristicasGerais\n",
       "1   1                      Portaria 24 Horas       \n",
       "2   2                      Elevador                \n",
       "3   4                      Salão de festas         \n",
       "4   5                      Área gourmet            \n",
       "5   6                      Água individual         \n",
       "6   7                      Gás canalizado          \n",
       "7   8                      Aquecimento solar       \n",
       "8   9                      Vaga coberta            \n",
       "9  10                      Vaga livre              \n",
       "10 11                      Armários na cozinha     \n",
       "11 12                      Closet                  \n",
       "12 13                      Armários no quarto      "
      ]
     },
     "metadata": {},
     "output_type": "display_data"
    }
   ],
   "source": [
    "#Consulta os dados da tabela *caracteristicasgerais*\n",
    "tabledata <- dbReadTable(con,\"caracteristicasgerais\")\n",
    "tabledata"
   ]
  },
  {
   "cell_type": "code",
   "execution_count": 7,
   "metadata": {},
   "outputs": [
    {
     "name": "stdout",
     "output_type": "stream",
     "text": [
      "[1] \"INSERT INTO caracteristicasgerais (idcaracteristicasGerais,dsccaracteristicasGerais) VALUES(1,'Portaria 24 Horas');\"\n"
     ]
    },
    {
     "ename": "ERROR",
     "evalue": "Error in result_create(conn@ptr, statement, is_statement): Duplicate entry '1' for key 'caracteristicasgerais.PRIMARY' [1062]\n",
     "output_type": "error",
     "traceback": [
      "Error in result_create(conn@ptr, statement, is_statement): Duplicate entry '1' for key 'caracteristicasgerais.PRIMARY' [1062]\nTraceback:\n",
      "1. dbSendQuery(con, query)",
      "2. dbSendQuery(con, query)",
      "3. .local(conn, statement, ...)",
      "4. dbSend(conn, statement, params, is_statement = FALSE)",
      "5. new(\"MariaDBResult\", sql = statement, ptr = result_create(conn@ptr, \n .     statement, is_statement), bigint = conn@bigint)",
      "6. initialize(value, ...)",
      "7. initialize(value, ...)",
      "8. result_create(conn@ptr, statement, is_statement)"
     ]
    }
   ],
   "source": [
    "#Para executar um comando SQL execute:\n",
    "#dbSendQuery(nome-da-conexao,\"comando\")\n",
    "\n",
    "# Vamos inserir uma nova linha na tabela tipounidade\n",
    "# Cria o comando e salva na variável query\n",
    "query <-  \"INSERT INTO caracteristicasgerais (idcaracteristicasGerais,dsccaracteristicasGerais) VALUES(1,'Portaria 24 Horas');\"\n",
    "\n",
    "# Opcional.\n",
    "print(query)\n",
    "\n",
    "results <- dbSendQuery(con,query)\n",
    "results\n",
    "\n",
    "# Limpa resultados\n",
    "dbClearResult(results)"
   ]
  },
  {
   "cell_type": "code",
   "execution_count": 8,
   "metadata": {},
   "outputs": [
    {
     "ename": "ERROR",
     "evalue": "Error in result_create(conn@ptr, statement, is_statement): Duplicate entry '2' for key 'caracteristicasgerais.PRIMARY' [1062]\n",
     "output_type": "error",
     "traceback": [
      "Error in result_create(conn@ptr, statement, is_statement): Duplicate entry '2' for key 'caracteristicasgerais.PRIMARY' [1062]\nTraceback:\n",
      "1. dbSendQuery(con, query)",
      "2. dbSendQuery(con, query)",
      "3. .local(conn, statement, ...)",
      "4. dbSend(conn, statement, params, is_statement = FALSE)",
      "5. new(\"MariaDBResult\", sql = statement, ptr = result_create(conn@ptr, \n .     statement, is_statement), bigint = conn@bigint)",
      "6. initialize(value, ...)",
      "7. initialize(value, ...)",
      "8. result_create(conn@ptr, statement, is_statement)"
     ]
    }
   ],
   "source": [
    "id <- 2\n",
    "desc <- 'Elevador'\n",
    "\n",
    "query <-  paste(\"INSERT INTO caracteristicasgerais (idcaracteristicasGerais,dsccaracteristicasGerais) VALUES(\",id,\",'\",desc,\"');\",sep='')\n",
    "\n",
    "# Opcional.\n",
    "#print(query)\n",
    "\n",
    "results <- dbSendQuery(con,query)\n",
    "#results\n",
    "\n",
    "# Limpa resultados\n",
    "dbClearResult(results)\n",
    "\n",
    "id <- 3\n",
    "desc <- 'Piscina'\n",
    "\n",
    "query <-  paste(\"INSERT INTO caracteristicasgerais (idcaracteristicasGerais,dsccaracteristicasGerais) VALUES(\",id,\",'\",desc,\"');\",sep='')\n",
    "\n",
    "results <- dbSendQuery(con,query)\n",
    "\n",
    "dbClearResult(results)"
   ]
  },
  {
   "cell_type": "code",
   "execution_count": 9,
   "metadata": {},
   "outputs": [
    {
     "data": {
      "text/html": [
       "'C:/Users/JoaoLott/Desktop/CURSOS/BootCamp IGTI/Modulo 3/Atividade 1/caracteristicasgerais.csv'"
      ],
      "text/latex": [
       "'C:/Users/JoaoLott/Desktop/CURSOS/BootCamp IGTI/Modulo 3/Atividade 1/caracteristicasgerais.csv'"
      ],
      "text/markdown": [
       "'C:/Users/JoaoLott/Desktop/CURSOS/BootCamp IGTI/Modulo 3/Atividade 1/caracteristicasgerais.csv'"
      ],
      "text/plain": [
       "[1] \"C:/Users/JoaoLott/Desktop/CURSOS/BootCamp IGTI/Modulo 3/Atividade 1/caracteristicasgerais.csv\""
      ]
     },
     "metadata": {},
     "output_type": "display_data"
    },
    {
     "data": {
      "text/html": [
       "<table>\n",
       "<thead><tr><th scope=col>idcaracteristicasGerais</th><th scope=col>dsccaracteristicasGerais</th></tr></thead>\n",
       "<tbody>\n",
       "\t<tr><td> 4                 </td><td>Salão de festas    </td></tr>\n",
       "\t<tr><td> 5                 </td><td>Área gourmet       </td></tr>\n",
       "\t<tr><td> 6                 </td><td>Água individual    </td></tr>\n",
       "\t<tr><td> 7                 </td><td>Gás canalizado     </td></tr>\n",
       "\t<tr><td> 8                 </td><td>Aquecimento solar  </td></tr>\n",
       "\t<tr><td> 9                 </td><td>Vaga coberta       </td></tr>\n",
       "\t<tr><td>10                 </td><td>Vaga livre         </td></tr>\n",
       "\t<tr><td>11                 </td><td>Armários na cozinha</td></tr>\n",
       "\t<tr><td>12                 </td><td>Closet             </td></tr>\n",
       "\t<tr><td>13                 </td><td>Armários no quarto </td></tr>\n",
       "</tbody>\n",
       "</table>\n"
      ],
      "text/latex": [
       "\\begin{tabular}{r|ll}\n",
       " idcaracteristicasGerais & dsccaracteristicasGerais\\\\\n",
       "\\hline\n",
       "\t  4                  & Salão de festas    \\\\\n",
       "\t  5                  & Área gourmet       \\\\\n",
       "\t  6                  & Água individual    \\\\\n",
       "\t  7                  & Gás canalizado     \\\\\n",
       "\t  8                  & Aquecimento solar  \\\\\n",
       "\t  9                  & Vaga coberta       \\\\\n",
       "\t 10                  & Vaga livre         \\\\\n",
       "\t 11                  & Armários na cozinha\\\\\n",
       "\t 12                  & Closet             \\\\\n",
       "\t 13                  & Armários no quarto \\\\\n",
       "\\end{tabular}\n"
      ],
      "text/markdown": [
       "\n",
       "| idcaracteristicasGerais | dsccaracteristicasGerais |\n",
       "|---|---|\n",
       "|  4                  | Salão de festas     |\n",
       "|  5                  | Área gourmet        |\n",
       "|  6                  | Água individual     |\n",
       "|  7                  | Gás canalizado      |\n",
       "|  8                  | Aquecimento solar   |\n",
       "|  9                  | Vaga coberta        |\n",
       "| 10                  | Vaga livre          |\n",
       "| 11                  | Armários na cozinha |\n",
       "| 12                  | Closet              |\n",
       "| 13                  | Armários no quarto  |\n",
       "\n"
      ],
      "text/plain": [
       "   idcaracteristicasGerais dsccaracteristicasGerais\n",
       "1   4                      Salão de festas         \n",
       "2   5                      Área gourmet            \n",
       "3   6                      Água individual         \n",
       "4   7                      Gás canalizado          \n",
       "5   8                      Aquecimento solar       \n",
       "6   9                      Vaga coberta            \n",
       "7  10                      Vaga livre              \n",
       "8  11                      Armários na cozinha     \n",
       "9  12                      Closet                  \n",
       "10 13                      Armários no quarto      "
      ]
     },
     "metadata": {},
     "output_type": "display_data"
    }
   ],
   "source": [
    "#install.packages('xlsx')\n",
    "\n",
    "#Importa pacote xlsx se ele ainda não foi carregado\n",
    "#if(!\"xlsx\" %in% (.packages())){require(xlsx)}\n",
    "\n",
    "datasetpath <- 'C:/Users/JoaoLott/Desktop/CURSOS/BootCamp IGTI/Modulo 3/Atividade 1'\n",
    "\n",
    "filename <- paste(datasetpath,\"/caracteristicasgerais.csv\",sep='')\n",
    "filename\n",
    "\n",
    "insertdata <- read.csv(filename)\n",
    "insertdata"
   ]
  },
  {
   "cell_type": "code",
   "execution_count": 10,
   "metadata": {},
   "outputs": [
    {
     "ename": "ERROR",
     "evalue": "Error in result_bind(res@ptr, params): Duplicate entry '4' for key 'caracteristicasgerais.PRIMARY' [1062]\n",
     "output_type": "error",
     "traceback": [
      "Error in result_bind(res@ptr, params): Duplicate entry '4' for key 'caracteristicasgerais.PRIMARY' [1062]\nTraceback:\n",
      "1. dbWriteTable(con, \"caracteristicasgerais\", insertdata, append = TRUE)",
      "2. dbWriteTable(con, \"caracteristicasgerais\", insertdata, append = TRUE)",
      "3. .local(conn, name, value, ...)",
      "4. dbAppendTable(conn = conn, name = name, value = value)",
      "5. dbAppendTable(conn = conn, name = name, value = value)",
      "6. dbExecute(conn, query, param = unname(as.list(value)))",
      "7. dbExecute(conn, query, param = unname(as.list(value)))",
      "8. dbSendStatement(conn, statement, ...)",
      "9. dbSendStatement(conn, statement, ...)",
      "10. .local(conn, statement, ...)",
      "11. dbSend(conn, statement, params, is_statement = TRUE)",
      "12. dbBind(rs, params)",
      "13. dbBind(rs, params)",
      "14. result_bind(res@ptr, params)"
     ]
    }
   ],
   "source": [
    "dbWriteTable(con,'caracteristicasgerais',insertdata,append = TRUE)"
   ]
  },
  {
   "cell_type": "code",
   "execution_count": 11,
   "metadata": {},
   "outputs": [
    {
     "name": "stderr",
     "output_type": "stream",
     "text": [
      "Warning message in result_create(conn@ptr, statement, is_statement):\n",
      "\"Cancelling previous query\""
     ]
    },
    {
     "data": {
      "text/html": [
       "<table>\n",
       "<thead><tr><th scope=col>idcaracteristicasGerais</th><th scope=col>dsccaracteristicasGerais</th></tr></thead>\n",
       "<tbody>\n",
       "\t<tr><td> 1                 </td><td>Portaria 24 Horas  </td></tr>\n",
       "\t<tr><td> 2                 </td><td>Elevador           </td></tr>\n",
       "\t<tr><td> 4                 </td><td>Salão de festas    </td></tr>\n",
       "\t<tr><td> 5                 </td><td>Área gourmet       </td></tr>\n",
       "\t<tr><td> 6                 </td><td>Água individual    </td></tr>\n",
       "\t<tr><td> 7                 </td><td>Gás canalizado     </td></tr>\n",
       "\t<tr><td> 8                 </td><td>Aquecimento solar  </td></tr>\n",
       "\t<tr><td> 9                 </td><td>Vaga coberta       </td></tr>\n",
       "\t<tr><td>10                 </td><td>Vaga livre         </td></tr>\n",
       "\t<tr><td>11                 </td><td>Armários na cozinha</td></tr>\n",
       "\t<tr><td>12                 </td><td>Closet             </td></tr>\n",
       "\t<tr><td>13                 </td><td>Armários no quarto </td></tr>\n",
       "</tbody>\n",
       "</table>\n"
      ],
      "text/latex": [
       "\\begin{tabular}{r|ll}\n",
       " idcaracteristicasGerais & dsccaracteristicasGerais\\\\\n",
       "\\hline\n",
       "\t  1                  & Portaria 24 Horas  \\\\\n",
       "\t  2                  & Elevador           \\\\\n",
       "\t  4                  & Salão de festas    \\\\\n",
       "\t  5                  & Área gourmet       \\\\\n",
       "\t  6                  & Água individual    \\\\\n",
       "\t  7                  & Gás canalizado     \\\\\n",
       "\t  8                  & Aquecimento solar  \\\\\n",
       "\t  9                  & Vaga coberta       \\\\\n",
       "\t 10                  & Vaga livre         \\\\\n",
       "\t 11                  & Armários na cozinha\\\\\n",
       "\t 12                  & Closet             \\\\\n",
       "\t 13                  & Armários no quarto \\\\\n",
       "\\end{tabular}\n"
      ],
      "text/markdown": [
       "\n",
       "| idcaracteristicasGerais | dsccaracteristicasGerais |\n",
       "|---|---|\n",
       "|  1                  | Portaria 24 Horas   |\n",
       "|  2                  | Elevador            |\n",
       "|  4                  | Salão de festas     |\n",
       "|  5                  | Área gourmet        |\n",
       "|  6                  | Água individual     |\n",
       "|  7                  | Gás canalizado      |\n",
       "|  8                  | Aquecimento solar   |\n",
       "|  9                  | Vaga coberta        |\n",
       "| 10                  | Vaga livre          |\n",
       "| 11                  | Armários na cozinha |\n",
       "| 12                  | Closet              |\n",
       "| 13                  | Armários no quarto  |\n",
       "\n"
      ],
      "text/plain": [
       "   idcaracteristicasGerais dsccaracteristicasGerais\n",
       "1   1                      Portaria 24 Horas       \n",
       "2   2                      Elevador                \n",
       "3   4                      Salão de festas         \n",
       "4   5                      Área gourmet            \n",
       "5   6                      Água individual         \n",
       "6   7                      Gás canalizado          \n",
       "7   8                      Aquecimento solar       \n",
       "8   9                      Vaga coberta            \n",
       "9  10                      Vaga livre              \n",
       "10 11                      Armários na cozinha     \n",
       "11 12                      Closet                  \n",
       "12 13                      Armários no quarto      "
      ]
     },
     "metadata": {},
     "output_type": "display_data"
    }
   ],
   "source": [
    "#Consulta os dados da tabela *caracteristicasgerais*\n",
    "tabledata <- dbReadTable(con,\"caracteristicasgerais\")\n",
    "tabledata"
   ]
  },
  {
   "cell_type": "code",
   "execution_count": 12,
   "metadata": {},
   "outputs": [],
   "source": [
    "# Desconectar do banco de dados\n",
    "dbDisconnect(con)"
   ]
  },
  {
   "cell_type": "code",
   "execution_count": null,
   "metadata": {},
   "outputs": [],
   "source": []
  }
 ],
 "metadata": {
  "kernelspec": {
   "display_name": "R",
   "language": "R",
   "name": "ir"
  },
  "language_info": {
   "codemirror_mode": "r",
   "file_extension": ".r",
   "mimetype": "text/x-r-source",
   "name": "R",
   "pygments_lexer": "r",
   "version": "3.6.1"
  }
 },
 "nbformat": 4,
 "nbformat_minor": 4
}
